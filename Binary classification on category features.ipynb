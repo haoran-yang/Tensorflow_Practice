{
 "cells": [
  {
   "cell_type": "code",
   "execution_count": 130,
   "metadata": {},
   "outputs": [],
   "source": [
    "import pandas as pd\n",
    "import numpy as np\n",
    "import gc\n",
    "import tensorflow as tf\n",
    "from tensorflow import keras\n",
    "import matplotlib.pyplot as plt\n",
    "from tensorflow.keras import layers\n",
    "from sklearn.model_selection import train_test_split,StratifiedKFold\n",
    "from sklearn.preprocessing import LabelEncoder\n",
    "from sklearn.metrics import roc_auc_score\n",
    "from tensorflow.keras import utils\n",
    "from tensorflow.keras import backend\n",
    "import warnings\n",
    "warnings.filterwarnings('ignore')"
   ]
  },
  {
   "cell_type": "code",
   "execution_count": 9,
   "metadata": {},
   "outputs": [],
   "source": [
    "# 加载训练数据\n",
    "datas = pd.read_csv('./data/cat-in-the-dat/train.csv')"
   ]
  },
  {
   "cell_type": "code",
   "execution_count": 10,
   "metadata": {
    "scrolled": true
   },
   "outputs": [],
   "source": [
    "X = datas.drop(columns='id')\n",
    "y = X.pop('target')"
   ]
  },
  {
   "cell_type": "code",
   "execution_count": 11,
   "metadata": {},
   "outputs": [],
   "source": [
    "# 标签编码\n",
    "for f in features:\n",
    "    lbe = LabelEncoder()\n",
    "    X[f] = lbe.fit_transform(X[f])"
   ]
  },
  {
   "cell_type": "code",
   "execution_count": 140,
   "metadata": {},
   "outputs": [],
   "source": [
    "# 训练集和测试集划分\n",
    "X_train, X_test, y_train, y_test = train_test_split(X,y,train_size=0.7,shuffle=True,stratify=y,random_state=2)"
   ]
  },
  {
   "cell_type": "code",
   "execution_count": 141,
   "metadata": {},
   "outputs": [],
   "source": [
    "X_train = X_train.reset_index(drop=True)\n",
    "X_test = X_test.reset_index(drop=True)"
   ]
  },
  {
   "cell_type": "code",
   "execution_count": 142,
   "metadata": {
    "scrolled": true
   },
   "outputs": [],
   "source": [
    "# 特征名列表\n",
    "features = X.columns.tolist()"
   ]
  },
  {
   "cell_type": "markdown",
   "metadata": {},
   "source": [
    "#### layers.Embedding\n",
    "- 嵌入层，将正整数编码数据嵌入到固定的高维空间。只能作为模型第一层  \n",
    "1. input_dim：特征不重复取值的个数(或不同文本个数)。\n",
    "2. output_dim：输出向量空间大小。\n",
    "3. input_length：输入特征取值数，默认None"
   ]
  },
  {
   "cell_type": "code",
   "execution_count": 143,
   "metadata": {},
   "outputs": [],
   "source": [
    "# 定义模型结构\n",
    "def create_model(data,features):\n",
    "    inputs = []\n",
    "    xs = []\n",
    "    # 按特征列输入\n",
    "    for f in features:\n",
    "        value_num = data[f].nunique() # 唯一值个数\n",
    "        out_dim = int(min(np.ceil(value_num / 2), 40)) # 设置向量空间大小\n",
    "        # 按特征列输入\n",
    "        input_x = keras.Input(shape=(1,))\n",
    "        # 嵌入层，将特征映射到高维空间\n",
    "        x = layers.Embedding(input_dim=value_num, output_dim=out_dim, name=f)(input_x)\n",
    "        # 随机删除整个1维特征映射比例为0.1。dropout删除单个神经元\n",
    "        x = layers.SpatialDropout1D(rate=0.1)(x)\n",
    "        # 调整维度\n",
    "        x = layers.Reshape(target_shape=(out_dim,))(x)\n",
    "        inputs.append(input_x)\n",
    "        xs.append(x)\n",
    "        \n",
    "    p = layers.Concatenate()(xs) # 列表连接层\n",
    "    p = layers.BatchNormalization()(p) # 批量归一化层\n",
    "    \n",
    "    p = layers.Dense(200,activation='relu')(p)\n",
    "    p = layers.Dropout(rate=0.1)(p) # 随机暂时性删除10%的神经元\n",
    "    p = layers.BatchNormalization()(p) # 批量归一化层\n",
    "    \n",
    "    p = layers.Dense(200,activation='relu')(p)\n",
    "    p = layers.Dropout(rate=0.1)(p) # 随机暂时性删除10%的神经元\n",
    "    p = layers.BatchNormalization()(p) # 批量归一化层\n",
    "    \n",
    "    outputs = layers.Dense(2,activation='sigmoid')(p)\n",
    "    model = keras.Model(inputs=inputs,outputs=outputs)\n",
    "    return model"
   ]
  },
  {
   "cell_type": "markdown",
   "metadata": {},
   "source": [
    "- tf.py_func将tensor转换为numpy计算，再将输出的numpy转换为tensor\n",
    "- tf.py_func参数依次为：自定义函数，函数所需参数，函数输出转换为tensor后的类型"
   ]
  },
  {
   "cell_type": "code",
   "execution_count": 144,
   "metadata": {},
   "outputs": [],
   "source": [
    "# 定义auc度量函数\n",
    "def auc(y_true, y_pred):\n",
    "    def defined_auc(y_true, y_pred):\n",
    "        return roc_auc_score(y_true, y_pred)\n",
    "    return tf.py_func(defined_auc, (y_true, y_pred), tf.double)"
   ]
  },
  {
   "cell_type": "code",
   "execution_count": 145,
   "metadata": {},
   "outputs": [],
   "source": [
    "sk = StratifiedKFold(n_splits=2,random_state=6)"
   ]
  },
  {
   "cell_type": "markdown",
   "metadata": {},
   "source": [
    "- utils.to_categorical：类别向量转换为类别矩阵"
   ]
  },
  {
   "cell_type": "code",
   "execution_count": 146,
   "metadata": {
    "scrolled": true
   },
   "outputs": [
    {
     "name": "stdout",
     "output_type": "stream",
     "text": [
      "Train on 104999 samples, validate on 105001 samples\n",
      "Epoch 1/8\n",
      "104800/104999 [============================>.] - ETA: 0s - loss: 0.5366 - auc: 0.7441"
     ]
    },
    {
     "ename": "InvalidArgumentError",
     "evalue": "ValueError: Only one class present in y_true. ROC AUC score is not defined in that case.\nTraceback (most recent call last):\n\n  File \"D:\\Anaconda3\\lib\\site-packages\\tensorflow\\python\\ops\\script_ops.py\", line 158, in __call__\n    ret = func(*args)\n\n  File \"<ipython-input-144-d17f97f84e21>\", line 4, in defined_auc\n    return roc_auc_score(y_true, y_pred)\n\n  File \"D:\\Anaconda3\\lib\\site-packages\\sklearn\\metrics\\ranking.py\", line 355, in roc_auc_score\n    sample_weight=sample_weight)\n\n  File \"D:\\Anaconda3\\lib\\site-packages\\sklearn\\metrics\\base.py\", line 119, in _average_binary_score\n    sample_weight=score_weight)\n\n  File \"D:\\Anaconda3\\lib\\site-packages\\sklearn\\metrics\\ranking.py\", line 323, in _binary_roc_auc_score\n    raise ValueError(\"Only one class present in y_true. ROC AUC score \"\n\nValueError: Only one class present in y_true. ROC AUC score is not defined in that case.\n\n\n\t [[Node: metrics_3/auc/PyFunc = PyFunc[Tin=[DT_FLOAT, DT_FLOAT], Tout=[DT_DOUBLE], token=\"pyfunc_13\", _device=\"/job:localhost/replica:0/task:0/device:CPU:0\"](_arg_dense_11_target_0_23, dense_11/Sigmoid)]]",
     "output_type": "error",
     "traceback": [
      "\u001b[1;31m---------------------------------------------------------------------------\u001b[0m",
      "\u001b[1;31mInvalidArgumentError\u001b[0m                      Traceback (most recent call last)",
      "\u001b[1;32m<ipython-input-146-7d98835d6e05>\u001b[0m in \u001b[0;36m<module>\u001b[1;34m()\u001b[0m\n\u001b[0;32m     21\u001b[0m                                       patience=2, min_lr=1e-6, mode='max', verbose=1)\n\u001b[0;32m     22\u001b[0m     \u001b[1;31m# 模型训练\u001b[0m\u001b[1;33m\u001b[0m\u001b[1;33m\u001b[0m\u001b[0m\n\u001b[1;32m---> 23\u001b[1;33m     \u001b[0mmodel\u001b[0m\u001b[1;33m.\u001b[0m\u001b[0mfit\u001b[0m\u001b[1;33m(\u001b[0m\u001b[0mtra_x\u001b[0m\u001b[1;33m,\u001b[0m \u001b[0mutils\u001b[0m\u001b[1;33m.\u001b[0m\u001b[0mto_categorical\u001b[0m\u001b[1;33m(\u001b[0m\u001b[0mtra_y\u001b[0m\u001b[1;33m)\u001b[0m\u001b[1;33m,\u001b[0m \u001b[0mepochs\u001b[0m\u001b[1;33m=\u001b[0m\u001b[1;36m8\u001b[0m\u001b[1;33m,\u001b[0m \u001b[0mbatch_size\u001b[0m\u001b[1;33m=\u001b[0m\u001b[1;36m100\u001b[0m\u001b[1;33m,\u001b[0m\u001b[0mcallbacks\u001b[0m\u001b[1;33m=\u001b[0m\u001b[1;33m[\u001b[0m\u001b[0melystop\u001b[0m\u001b[1;33m,\u001b[0m\u001b[0mredlr\u001b[0m\u001b[1;33m]\u001b[0m\u001b[1;33m,\u001b[0m \u001b[0mvalidation_data\u001b[0m\u001b[1;33m=\u001b[0m\u001b[1;33m(\u001b[0m\u001b[0mval_x\u001b[0m\u001b[1;33m,\u001b[0m\u001b[0mutils\u001b[0m\u001b[1;33m.\u001b[0m\u001b[0mto_categorical\u001b[0m\u001b[1;33m(\u001b[0m\u001b[0mval_y\u001b[0m\u001b[1;33m)\u001b[0m\u001b[1;33m)\u001b[0m\u001b[1;33m)\u001b[0m\u001b[1;33m\u001b[0m\u001b[0m\n\u001b[0m\u001b[0;32m     24\u001b[0m     \u001b[0mval_pred\u001b[0m \u001b[1;33m=\u001b[0m \u001b[0mmodel\u001b[0m\u001b[1;33m.\u001b[0m\u001b[0mpredict\u001b[0m\u001b[1;33m(\u001b[0m\u001b[0mval_x\u001b[0m\u001b[1;33m)\u001b[0m\u001b[1;33m[\u001b[0m\u001b[1;33m:\u001b[0m\u001b[1;33m,\u001b[0m\u001b[1;36m1\u001b[0m\u001b[1;33m]\u001b[0m \u001b[1;31m# 验证集预测\u001b[0m\u001b[1;33m\u001b[0m\u001b[0m\n\u001b[0;32m     25\u001b[0m     \u001b[0moof_preds\u001b[0m\u001b[1;33m[\u001b[0m\u001b[0mval_index\u001b[0m\u001b[1;33m]\u001b[0m\u001b[1;33m=\u001b[0m\u001b[0mval_pred\u001b[0m \u001b[1;31m# 存放验证集预测结果\u001b[0m\u001b[1;33m\u001b[0m\u001b[0m\n",
      "\u001b[1;32mD:\\Anaconda3\\lib\\site-packages\\tensorflow\\python\\keras\\engine\\training.py\u001b[0m in \u001b[0;36mfit\u001b[1;34m(self, x, y, batch_size, epochs, verbose, callbacks, validation_split, validation_data, shuffle, class_weight, sample_weight, initial_epoch, steps_per_epoch, validation_steps, **kwargs)\u001b[0m\n\u001b[0;32m   1346\u001b[0m           \u001b[0minitial_epoch\u001b[0m\u001b[1;33m=\u001b[0m\u001b[0minitial_epoch\u001b[0m\u001b[1;33m,\u001b[0m\u001b[1;33m\u001b[0m\u001b[0m\n\u001b[0;32m   1347\u001b[0m           \u001b[0msteps_per_epoch\u001b[0m\u001b[1;33m=\u001b[0m\u001b[0msteps_per_epoch\u001b[0m\u001b[1;33m,\u001b[0m\u001b[1;33m\u001b[0m\u001b[0m\n\u001b[1;32m-> 1348\u001b[1;33m           validation_steps=validation_steps)\n\u001b[0m\u001b[0;32m   1349\u001b[0m \u001b[1;33m\u001b[0m\u001b[0m\n\u001b[0;32m   1350\u001b[0m   def evaluate(self,\n",
      "\u001b[1;32mD:\\Anaconda3\\lib\\site-packages\\tensorflow\\python\\keras\\engine\\training_arrays.py\u001b[0m in \u001b[0;36mfit_loop\u001b[1;34m(model, inputs, targets, sample_weights, batch_size, epochs, verbose, callbacks, val_inputs, val_targets, val_sample_weights, shuffle, callback_metrics, initial_epoch, steps_per_epoch, validation_steps)\u001b[0m\n\u001b[0;32m    269\u001b[0m                 \u001b[0msample_weights\u001b[0m\u001b[1;33m=\u001b[0m\u001b[0mval_sample_weights\u001b[0m\u001b[1;33m,\u001b[0m\u001b[1;33m\u001b[0m\u001b[0m\n\u001b[0;32m    270\u001b[0m                 \u001b[0mbatch_size\u001b[0m\u001b[1;33m=\u001b[0m\u001b[0mbatch_size\u001b[0m\u001b[1;33m,\u001b[0m\u001b[1;33m\u001b[0m\u001b[0m\n\u001b[1;32m--> 271\u001b[1;33m                 verbose=0)\n\u001b[0m\u001b[0;32m    272\u001b[0m             \u001b[1;32mif\u001b[0m \u001b[1;32mnot\u001b[0m \u001b[0misinstance\u001b[0m\u001b[1;33m(\u001b[0m\u001b[0mval_outs\u001b[0m\u001b[1;33m,\u001b[0m \u001b[0mlist\u001b[0m\u001b[1;33m)\u001b[0m\u001b[1;33m:\u001b[0m\u001b[1;33m\u001b[0m\u001b[0m\n\u001b[0;32m    273\u001b[0m               \u001b[0mval_outs\u001b[0m \u001b[1;33m=\u001b[0m \u001b[1;33m[\u001b[0m\u001b[0mval_outs\u001b[0m\u001b[1;33m]\u001b[0m\u001b[1;33m\u001b[0m\u001b[0m\n",
      "\u001b[1;32mD:\\Anaconda3\\lib\\site-packages\\tensorflow\\python\\keras\\engine\\training_arrays.py\u001b[0m in \u001b[0;36mtest_loop\u001b[1;34m(model, inputs, targets, sample_weights, batch_size, verbose, steps)\u001b[0m\n\u001b[0;32m    471\u001b[0m         \u001b[0mins_batch\u001b[0m\u001b[1;33m[\u001b[0m\u001b[0mi\u001b[0m\u001b[1;33m]\u001b[0m \u001b[1;33m=\u001b[0m \u001b[0mins_batch\u001b[0m\u001b[1;33m[\u001b[0m\u001b[0mi\u001b[0m\u001b[1;33m]\u001b[0m\u001b[1;33m.\u001b[0m\u001b[0mtoarray\u001b[0m\u001b[1;33m(\u001b[0m\u001b[1;33m)\u001b[0m\u001b[1;33m\u001b[0m\u001b[0m\n\u001b[0;32m    472\u001b[0m \u001b[1;33m\u001b[0m\u001b[0m\n\u001b[1;32m--> 473\u001b[1;33m       \u001b[0mbatch_outs\u001b[0m \u001b[1;33m=\u001b[0m \u001b[0mf\u001b[0m\u001b[1;33m(\u001b[0m\u001b[0mins_batch\u001b[0m\u001b[1;33m)\u001b[0m\u001b[1;33m\u001b[0m\u001b[0m\n\u001b[0m\u001b[0;32m    474\u001b[0m \u001b[1;33m\u001b[0m\u001b[0m\n\u001b[0;32m    475\u001b[0m       \u001b[1;32mif\u001b[0m \u001b[0misinstance\u001b[0m\u001b[1;33m(\u001b[0m\u001b[0mbatch_outs\u001b[0m\u001b[1;33m,\u001b[0m \u001b[0mlist\u001b[0m\u001b[1;33m)\u001b[0m\u001b[1;33m:\u001b[0m\u001b[1;33m\u001b[0m\u001b[0m\n",
      "\u001b[1;32mD:\\Anaconda3\\lib\\site-packages\\tensorflow\\python\\keras\\backend.py\u001b[0m in \u001b[0;36m__call__\u001b[1;34m(self, inputs)\u001b[0m\n\u001b[0;32m   2895\u001b[0m       \u001b[0mself\u001b[0m\u001b[1;33m.\u001b[0m\u001b[0m_make_callable\u001b[0m\u001b[1;33m(\u001b[0m\u001b[0mfeed_arrays\u001b[0m\u001b[1;33m,\u001b[0m \u001b[0mfeed_symbols\u001b[0m\u001b[1;33m,\u001b[0m \u001b[0msymbol_vals\u001b[0m\u001b[1;33m,\u001b[0m \u001b[0msession\u001b[0m\u001b[1;33m)\u001b[0m\u001b[1;33m\u001b[0m\u001b[0m\n\u001b[0;32m   2896\u001b[0m \u001b[1;33m\u001b[0m\u001b[0m\n\u001b[1;32m-> 2897\u001b[1;33m     \u001b[0mfetched\u001b[0m \u001b[1;33m=\u001b[0m \u001b[0mself\u001b[0m\u001b[1;33m.\u001b[0m\u001b[0m_callable_fn\u001b[0m\u001b[1;33m(\u001b[0m\u001b[1;33m*\u001b[0m\u001b[0marray_vals\u001b[0m\u001b[1;33m)\u001b[0m\u001b[1;33m\u001b[0m\u001b[0m\n\u001b[0m\u001b[0;32m   2898\u001b[0m     \u001b[1;32mreturn\u001b[0m \u001b[0mfetched\u001b[0m\u001b[1;33m[\u001b[0m\u001b[1;33m:\u001b[0m\u001b[0mlen\u001b[0m\u001b[1;33m(\u001b[0m\u001b[0mself\u001b[0m\u001b[1;33m.\u001b[0m\u001b[0moutputs\u001b[0m\u001b[1;33m)\u001b[0m\u001b[1;33m]\u001b[0m\u001b[1;33m\u001b[0m\u001b[0m\n\u001b[0;32m   2899\u001b[0m \u001b[1;33m\u001b[0m\u001b[0m\n",
      "\u001b[1;32mD:\\Anaconda3\\lib\\site-packages\\tensorflow\\python\\client\\session.py\u001b[0m in \u001b[0;36m__call__\u001b[1;34m(self, *args)\u001b[0m\n\u001b[0;32m   1452\u001b[0m         \u001b[1;32melse\u001b[0m\u001b[1;33m:\u001b[0m\u001b[1;33m\u001b[0m\u001b[0m\n\u001b[0;32m   1453\u001b[0m           return tf_session.TF_DeprecatedSessionRunCallable(\n\u001b[1;32m-> 1454\u001b[1;33m               self._session._session, self._handle, args, status, None)\n\u001b[0m\u001b[0;32m   1455\u001b[0m \u001b[1;33m\u001b[0m\u001b[0m\n\u001b[0;32m   1456\u001b[0m     \u001b[1;32mdef\u001b[0m \u001b[0m__del__\u001b[0m\u001b[1;33m(\u001b[0m\u001b[0mself\u001b[0m\u001b[1;33m)\u001b[0m\u001b[1;33m:\u001b[0m\u001b[1;33m\u001b[0m\u001b[0m\n",
      "\u001b[1;32mD:\\Anaconda3\\lib\\site-packages\\tensorflow\\python\\framework\\errors_impl.py\u001b[0m in \u001b[0;36m__exit__\u001b[1;34m(self, type_arg, value_arg, traceback_arg)\u001b[0m\n\u001b[0;32m    517\u001b[0m             \u001b[1;32mNone\u001b[0m\u001b[1;33m,\u001b[0m \u001b[1;32mNone\u001b[0m\u001b[1;33m,\u001b[0m\u001b[1;33m\u001b[0m\u001b[0m\n\u001b[0;32m    518\u001b[0m             \u001b[0mcompat\u001b[0m\u001b[1;33m.\u001b[0m\u001b[0mas_text\u001b[0m\u001b[1;33m(\u001b[0m\u001b[0mc_api\u001b[0m\u001b[1;33m.\u001b[0m\u001b[0mTF_Message\u001b[0m\u001b[1;33m(\u001b[0m\u001b[0mself\u001b[0m\u001b[1;33m.\u001b[0m\u001b[0mstatus\u001b[0m\u001b[1;33m.\u001b[0m\u001b[0mstatus\u001b[0m\u001b[1;33m)\u001b[0m\u001b[1;33m)\u001b[0m\u001b[1;33m,\u001b[0m\u001b[1;33m\u001b[0m\u001b[0m\n\u001b[1;32m--> 519\u001b[1;33m             c_api.TF_GetCode(self.status.status))\n\u001b[0m\u001b[0;32m    520\u001b[0m     \u001b[1;31m# Delete the underlying status object from memory otherwise it stays alive\u001b[0m\u001b[1;33m\u001b[0m\u001b[1;33m\u001b[0m\u001b[0m\n\u001b[0;32m    521\u001b[0m     \u001b[1;31m# as there is a reference to status from this from the traceback due to\u001b[0m\u001b[1;33m\u001b[0m\u001b[1;33m\u001b[0m\u001b[0m\n",
      "\u001b[1;31mInvalidArgumentError\u001b[0m: ValueError: Only one class present in y_true. ROC AUC score is not defined in that case.\nTraceback (most recent call last):\n\n  File \"D:\\Anaconda3\\lib\\site-packages\\tensorflow\\python\\ops\\script_ops.py\", line 158, in __call__\n    ret = func(*args)\n\n  File \"<ipython-input-144-d17f97f84e21>\", line 4, in defined_auc\n    return roc_auc_score(y_true, y_pred)\n\n  File \"D:\\Anaconda3\\lib\\site-packages\\sklearn\\metrics\\ranking.py\", line 355, in roc_auc_score\n    sample_weight=sample_weight)\n\n  File \"D:\\Anaconda3\\lib\\site-packages\\sklearn\\metrics\\base.py\", line 119, in _average_binary_score\n    sample_weight=score_weight)\n\n  File \"D:\\Anaconda3\\lib\\site-packages\\sklearn\\metrics\\ranking.py\", line 323, in _binary_roc_auc_score\n    raise ValueError(\"Only one class present in y_true. ROC AUC score \"\n\nValueError: Only one class present in y_true. ROC AUC score is not defined in that case.\n\n\n\t [[Node: metrics_3/auc/PyFunc = PyFunc[Tin=[DT_FLOAT, DT_FLOAT], Tout=[DT_DOUBLE], token=\"pyfunc_13\", _device=\"/job:localhost/replica:0/task:0/device:CPU:0\"](_arg_dense_11_target_0_23, dense_11/Sigmoid)]]"
     ]
    }
   ],
   "source": [
    "oof_preds = np.zeros((len(X_train))) # 存放验证集预测结果\n",
    "auc_score = 0 # 验证集auc值\n",
    "# K折交叉验证\n",
    "for tra_index, val_index in sk.split(X_train, y_train):\n",
    "    tra_x, val_x = X_train.iloc[tra_index,:], X_train.iloc[val_index,:]\n",
    "    tra_x = tra_x.reset_index(drop=True)\n",
    "    val_x = val_x.reset_index(drop=True)\n",
    "    tra_y, val_y = y_train.iloc[tra_index].values, y_train.iloc[val_index].values\n",
    "    # 定义模型\n",
    "    model = create_model(data=X, features=features)\n",
    "    # 配置优化算法、损失函数、度量标准\n",
    "    model.compile(optimizer=keras.optimizers.Adam(0.01), loss=keras.losses.binary_crossentropy, metrics = [auc])\n",
    "    # 将训练集和验证集转换为模型接受的格式\n",
    "    tra_x = [tra_x.values[:, k] for k in range(tra_x.values.shape[1])]\n",
    "    val_x = [val_x.values[:, k] for k in range(val_x.values.shape[1])]\n",
    "    # 设置earlystop,验证集auc值在5轮迭代内增长小于0.001停止。mode='max'指停止增长，'min'指停止下降。\n",
    "    elystop= keras.callbacks.EarlyStopping(monitor='val_auc', min_delta=0.001, patience=5,\n",
    "                                 verbose=1, mode='max')\n",
    "    # 动态降低学习率。facotr:此处学习率降为原来的1/2，patience：此处3轮epochs没有提升就降低学习率，min_lr：学习率不能低于1e-6\n",
    "    redlr = keras.callbacks.ReduceLROnPlateau(monitor='val_auc', factor=0.5,\n",
    "                                      patience=2, min_lr=1e-6, mode='max', verbose=1)\n",
    "    # 模型训练\n",
    "    model.fit(tra_x, utils.to_categorical(tra_y), epochs=8, batch_size=100,callbacks=[elystop,redlr], validation_data=(val_x,utils.to_categorical(val_y)))\n",
    "    val_pred = model.predict(val_x)[:,1] # 验证集预测\n",
    "    oof_preds[val_index]=val_pred # 存放验证集预测结果\n",
    "    auc_score += roc_auc_score(y_true=val_y,y_score=val_pred)\n",
    "print(f'The mean auc is {auc_score/sk.n_splits} \\nThe auc on val is {roc_auc_score(y_train,oof_preds)}')\n",
    "backend.clear_session()"
   ]
  },
  {
   "cell_type": "code",
   "execution_count": null,
   "metadata": {},
   "outputs": [],
   "source": []
  }
 ],
 "metadata": {
  "hide_input": false,
  "kernelspec": {
   "display_name": "Python 3",
   "language": "python",
   "name": "python3"
  },
  "language_info": {
   "codemirror_mode": {
    "name": "ipython",
    "version": 3
   },
   "file_extension": ".py",
   "mimetype": "text/x-python",
   "name": "python",
   "nbconvert_exporter": "python",
   "pygments_lexer": "ipython3",
   "version": "3.7.0"
  },
  "toc": {
   "base_numbering": 1,
   "nav_menu": {},
   "number_sections": true,
   "sideBar": true,
   "skip_h1_title": false,
   "title_cell": "Table of Contents",
   "title_sidebar": "Contents",
   "toc_cell": false,
   "toc_position": {},
   "toc_section_display": true,
   "toc_window_display": false
  },
  "varInspector": {
   "cols": {
    "lenName": 16,
    "lenType": 16,
    "lenVar": 40
   },
   "kernels_config": {
    "python": {
     "delete_cmd_postfix": "",
     "delete_cmd_prefix": "del ",
     "library": "var_list.py",
     "varRefreshCmd": "print(var_dic_list())"
    },
    "r": {
     "delete_cmd_postfix": ") ",
     "delete_cmd_prefix": "rm(",
     "library": "var_list.r",
     "varRefreshCmd": "cat(var_dic_list()) "
    }
   },
   "position": {
    "height": "483px",
    "left": "848px",
    "right": "20px",
    "top": "224px",
    "width": "752px"
   },
   "types_to_exclude": [
    "module",
    "function",
    "builtin_function_or_method",
    "instance",
    "_Feature"
   ],
   "window_display": false
  }
 },
 "nbformat": 4,
 "nbformat_minor": 2
}
