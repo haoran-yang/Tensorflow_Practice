{
 "cells": [
  {
   "cell_type": "code",
   "execution_count": 1,
   "metadata": {},
   "outputs": [],
   "source": [
    "from tensorflow import keras\n",
    "from tensorflow.keras import layers\n",
    "from tensorflow.examples.tutorials.mnist import input_data\n",
    "import tensorflow as tf\n",
    "from tensorflow.keras import utils"
   ]
  },
  {
   "cell_type": "code",
   "execution_count": 71,
   "metadata": {},
   "outputs": [],
   "source": [
    "import matplotlib.pyplot as plt"
   ]
  },
  {
   "cell_type": "code",
   "execution_count": 29,
   "metadata": {
    "scrolled": true
   },
   "outputs": [],
   "source": [
    "# mnist = input_data.read_data_sets('mnist_dataset/',one_hot=True)"
   ]
  },
  {
   "cell_type": "markdown",
   "metadata": {},
   "source": [
    "### quick start"
   ]
  },
  {
   "cell_type": "code",
   "execution_count": 15,
   "metadata": {},
   "outputs": [],
   "source": [
    "# 创建随机数\n",
    "train_x = np.random.random((1000, 32))\n",
    "train_y = np.random.random((1000, 10))\n",
    "\n",
    "val_x = np.random.random((200, 32))\n",
    "val_y = np.random.random((200, 10))"
   ]
  },
  {
   "cell_type": "code",
   "execution_count": 16,
   "metadata": {},
   "outputs": [],
   "source": [
    "# 层的线性堆叠\n",
    "model = keras.Sequential()"
   ]
  },
  {
   "cell_type": "code",
   "execution_count": 17,
   "metadata": {},
   "outputs": [],
   "source": [
    "# 输入层\n",
    "model.add(layers.Dense(32, activation='relu'))\n",
    "# 隐藏层\n",
    "model.add(layers.Dense(64,activation='relu'))\n",
    "# 输出层\n",
    "model.add(layers.Dense(10,activation='softmax'))"
   ]
  },
  {
   "cell_type": "code",
   "execution_count": 19,
   "metadata": {},
   "outputs": [],
   "source": [
    "# 配置模型训练，优化算法，损失函数，评价标准\n",
    "model.compile(optimizer=keras.optimizers.Adam(0.01), loss=keras.losses.categorical_crossentropy, metrics=[keras.metrics.categorical_accuracy])"
   ]
  },
  {
   "cell_type": "code",
   "execution_count": 27,
   "metadata": {
    "scrolled": true
   },
   "outputs": [
    {
     "name": "stdout",
     "output_type": "stream",
     "text": [
      "Train on 1000 samples, validate on 200 samples\n",
      "Epoch 1/10\n",
      "1000/1000 [==============================] - 0s 300us/step - loss: 11.4426 - categorical_accuracy: 0.1590 - val_loss: 11.5760 - val_categorical_accuracy: 0.0950\n",
      "Epoch 2/10\n",
      "1000/1000 [==============================] - 0s 50us/step - loss: 11.4340 - categorical_accuracy: 0.1630 - val_loss: 11.5716 - val_categorical_accuracy: 0.0950\n",
      "Epoch 3/10\n",
      "1000/1000 [==============================] - 0s 77us/step - loss: 11.4237 - categorical_accuracy: 0.1870 - val_loss: 11.5819 - val_categorical_accuracy: 0.0950\n",
      "Epoch 4/10\n",
      "1000/1000 [==============================] - 0s 43us/step - loss: 11.4198 - categorical_accuracy: 0.1920 - val_loss: 11.5901 - val_categorical_accuracy: 0.0700\n",
      "Epoch 5/10\n",
      "1000/1000 [==============================] - 0s 55us/step - loss: 11.4100 - categorical_accuracy: 0.1720 - val_loss: 11.5965 - val_categorical_accuracy: 0.0800\n",
      "Epoch 6/10\n",
      "1000/1000 [==============================] - 0s 48us/step - loss: 11.4037 - categorical_accuracy: 0.1970 - val_loss: 11.6070 - val_categorical_accuracy: 0.1050\n",
      "Epoch 7/10\n",
      "1000/1000 [==============================] - 0s 47us/step - loss: 11.3994 - categorical_accuracy: 0.1880 - val_loss: 11.6102 - val_categorical_accuracy: 0.0850\n",
      "Epoch 8/10\n",
      "1000/1000 [==============================] - 0s 47us/step - loss: 11.3919 - categorical_accuracy: 0.2120 - val_loss: 11.6133 - val_categorical_accuracy: 0.1100\n",
      "Epoch 9/10\n",
      "1000/1000 [==============================] - 0s 62us/step - loss: 11.3917 - categorical_accuracy: 0.1950 - val_loss: 11.6266 - val_categorical_accuracy: 0.0650\n",
      "Epoch 10/10\n",
      "1000/1000 [==============================] - 0s 49us/step - loss: 11.3943 - categorical_accuracy: 0.1790 - val_loss: 11.6110 - val_categorical_accuracy: 0.1050\n"
     ]
    },
    {
     "data": {
      "text/plain": [
       "<tensorflow.python.keras.callbacks.History at 0x124a11d0>"
      ]
     },
     "execution_count": 27,
     "metadata": {},
     "output_type": "execute_result"
    }
   ],
   "source": [
    "# 训练模型。\n",
    "model.fit(train_x, train_y, epochs=10, batch_size=100, validation_data=(val_x, val_y))"
   ]
  },
  {
   "cell_type": "markdown",
   "metadata": {},
   "source": [
    "- tf.data.Dataset.from_tensor_slices\n",
    "- tf.data.Dataset API\n",
    "- 大数据集或者多设备训练时使用"
   ]
  },
  {
   "cell_type": "code",
   "execution_count": 22,
   "metadata": {},
   "outputs": [],
   "source": [
    "# 加载数据，并特征切片\n",
    "dataset = tf.data.Dataset.from_tensor_slices((train_x, train_y))\n",
    "# 打乱数据\n",
    "dataset.shuffle(1000)\n",
    "# 设置batch,一次喂入32个数据\n",
    "dataset = dataset.batch(32)  # 在后续fit可不再设置batch\n",
    "# 循环迭代\n",
    "dataset = dataset.repeat()\n",
    "val_dataset = tf.data.Dataset.from_tensor_slices((val_x, val_y))\n",
    "val_dataset.shuffle(1000)\n",
    "val_dataset = val_dataset.batch(32)\n",
    "val_dataset = val_dataset.repeat()"
   ]
  },
  {
   "cell_type": "code",
   "execution_count": 23,
   "metadata": {
    "scrolled": true
   },
   "outputs": [
    {
     "name": "stdout",
     "output_type": "stream",
     "text": [
      "Epoch 1/10\n",
      "30/30 [==============================] - 0s 12ms/step - loss: 11.4901 - categorical_accuracy: 0.1323 - val_loss: 11.4406 - val_categorical_accuracy: 0.1250\n",
      "Epoch 2/10\n",
      "30/30 [==============================] - 0s 2ms/step - loss: 11.4631 - categorical_accuracy: 0.1417 - val_loss: 11.7110 - val_categorical_accuracy: 0.0729\n",
      "Epoch 3/10\n",
      "30/30 [==============================] - 0s 3ms/step - loss: 11.4462 - categorical_accuracy: 0.1510 - val_loss: 11.2694 - val_categorical_accuracy: 0.0417\n",
      "Epoch 4/10\n",
      "30/30 [==============================] - 0s 2ms/step - loss: 11.4380 - categorical_accuracy: 0.1521 - val_loss: 11.5909 - val_categorical_accuracy: 0.0938\n",
      "Epoch 5/10\n",
      "30/30 [==============================] - 0s 3ms/step - loss: 11.4560 - categorical_accuracy: 0.1479 - val_loss: 11.4823 - val_categorical_accuracy: 0.1354\n",
      "Epoch 6/10\n",
      "30/30 [==============================] - 0s 3ms/step - loss: 11.4404 - categorical_accuracy: 0.1490 - val_loss: 11.3870 - val_categorical_accuracy: 0.0938\n",
      "Epoch 7/10\n",
      "30/30 [==============================] - 0s 3ms/step - loss: 11.4135 - categorical_accuracy: 0.1510 - val_loss: 11.7603 - val_categorical_accuracy: 0.1458\n",
      "Epoch 8/10\n",
      "30/30 [==============================] - 0s 3ms/step - loss: 11.4224 - categorical_accuracy: 0.1615 - val_loss: 11.4735 - val_categorical_accuracy: 0.1250\n",
      "Epoch 9/10\n",
      "30/30 [==============================] - 0s 3ms/step - loss: 11.4204 - categorical_accuracy: 0.1625 - val_loss: 11.7607 - val_categorical_accuracy: 0.1458\n",
      "Epoch 10/10\n",
      "30/30 [==============================] - 0s 4ms/step - loss: 11.4545 - categorical_accuracy: 0.1531 - val_loss: 11.2892 - val_categorical_accuracy: 0.0833\n"
     ]
    },
    {
     "data": {
      "text/plain": [
       "<tensorflow.python.keras.callbacks.History at 0x11f69ba8>"
      ]
     },
     "execution_count": 23,
     "metadata": {},
     "output_type": "execute_result"
    }
   ],
   "source": [
    "model.fit(dataset, epochs=10, steps_per_epoch=30,\n",
    "          validation_data=val_dataset, validation_steps=3)"
   ]
  },
  {
   "cell_type": "code",
   "execution_count": 24,
   "metadata": {},
   "outputs": [
    {
     "name": "stdout",
     "output_type": "stream",
     "text": [
      "1000/1000 [==============================] - 0s 121us/step\n",
      "30/30 [==============================] - 0s 2ms/step\n"
     ]
    },
    {
     "data": {
      "text/plain": [
       "[11.494850571950277, 0.10208333333333333]"
      ]
     },
     "execution_count": 24,
     "metadata": {},
     "output_type": "execute_result"
    }
   ],
   "source": [
    "test_x = np.random.random((1000, 32))\n",
    "test_y = np.random.random((1000, 10))\n",
    "model.evaluate(test_x, test_y, batch_size=32)\n",
    "test_data = tf.data.Dataset.from_tensor_slices((test_x, test_y))\n",
    "test_data = test_data.batch(32).repeat()\n",
    "model.evaluate(test_data, steps=30)"
   ]
  },
  {
   "cell_type": "code",
   "execution_count": 28,
   "metadata": {},
   "outputs": [
    {
     "name": "stdout",
     "output_type": "stream",
     "text": [
      "[0.10677662 0.09956644 0.06182152 0.10405548 0.1178876  0.10788205\n",
      " 0.07197639 0.10449593 0.11063342 0.11490465]\n"
     ]
    }
   ],
   "source": [
    "result = model.predict(test_x, batch_size=32)\n",
    "print(result[0])"
   ]
  },
  {
   "cell_type": "markdown",
   "metadata": {},
   "source": [
    "### 方法及参数"
   ]
  },
  {
   "cell_type": "markdown",
   "metadata": {},
   "source": [
    "1. 快速手写数字识别"
   ]
  },
  {
   "cell_type": "code",
   "execution_count": 83,
   "metadata": {},
   "outputs": [],
   "source": [
    "# 加载手写数据集\n",
    "mnist = tf.keras.datasets.mnist\n",
    "(x_train, y_train), (x_test, y_test) = mnist.load_data()\n",
    "x_train, x_test = x_train / 255.0, x_test / 255.0"
   ]
  },
  {
   "cell_type": "code",
   "execution_count": 5,
   "metadata": {},
   "outputs": [
    {
     "data": {
      "text/plain": [
       "((60000, 28, 28), (10000, 28, 28))"
      ]
     },
     "execution_count": 5,
     "metadata": {},
     "output_type": "execute_result"
    }
   ],
   "source": [
    "x_train.shape, x_test.shape"
   ]
  },
  {
   "cell_type": "markdown",
   "metadata": {},
   "source": [
    "- keras.layers.Flatten：将数据展平\n",
    "- keras.layers.Dropout：\"抓爆\"，随机的暂时将部分神经单元丢弃，常用于防止过拟合"
   ]
  },
  {
   "cell_type": "code",
   "execution_count": 56,
   "metadata": {},
   "outputs": [],
   "source": [
    "# layers参数设置：kernel使用l1正则化，bias使用l2正则化，kernel初始化为随机正交矩阵，bias初始化为常数2.0\n",
    "model = keras.Sequential(\n",
    "   [ layers.Flatten(input_shape=(28,28)),\n",
    "    layers.Dense(128,activation='relu',kernel_regularizer=keras.regularizers.l1(0.01),\n",
    "                 bias_regularizer=keras.regularizers.l2(0.01),\n",
    "                 kernel_initializer='orthogonal',bias_initializer=tf.keras.initializers.Constant(2.0)),\n",
    "    layers.Dropout(rate=0.1),\n",
    "    layers.Dense(10,activation='softmax')]\n",
    ")"
   ]
  },
  {
   "cell_type": "markdown",
   "metadata": {},
   "source": [
    "1. optimizer: keras.optimizers中有各类优化算法\n",
    "2. loss: keras.losses中含损失函数。字符串指定常用默认损失函数如\"mse\",\"categorical_crossentropy\",\"binary_crossentropy\".\n",
    "3. metrics： keras.metrics中含度量函数。\n",
    "4. 设置run_eagerly=True让评估更快(2.0版支持)。"
   ]
  },
  {
   "cell_type": "code",
   "execution_count": 65,
   "metadata": {
    "scrolled": true
   },
   "outputs": [],
   "source": [
    "# 编译模型,指定优化算法，损失函数和度量\n",
    "# optimizer参数：可使用keras.optimizers中优化算法，也可用字符串（如'adam','sgd'）指定默认方法\n",
    "model.compile(optimizer='adam',loss='sparse_categorical_crossentropy',metrics=['accuracy'])"
   ]
  },
  {
   "cell_type": "markdown",
   "metadata": {},
   "source": [
    "- epochs：迭代次数。\n",
    "- batch_size：每次迭代使用的样本数\n",
    "- validation_data：实时监测验证集上效果，每次迭代执行一次"
   ]
  },
  {
   "cell_type": "code",
   "execution_count": 78,
   "metadata": {
    "scrolled": true
   },
   "outputs": [
    {
     "name": "stdout",
     "output_type": "stream",
     "text": [
      "Train on 60000 samples, validate on 10000 samples\n",
      "Epoch 1/2\n",
      "60000/60000 [==============================] - 7s 111us/step - loss: 1.0307 - acc: 0.8734 - val_loss: 0.9083 - val_acc: 0.8972\n",
      "Epoch 2/2\n",
      "60000/60000 [==============================] - 7s 109us/step - loss: 0.9828 - acc: 0.8764 - val_loss: 0.8426 - val_acc: 0.9138\n",
      "Wall time: 13.2 s\n"
     ]
    },
    {
     "data": {
      "text/plain": [
       "<tensorflow.python.keras.callbacks.History at 0x1e180ef0>"
      ]
     },
     "execution_count": 78,
     "metadata": {},
     "output_type": "execute_result"
    }
   ],
   "source": [
    "%%time\n",
    "# 训练\n",
    "model.fit(x_train,y_train,epochs=2,,batch_size=100,validation_data=(x_test,y_test))"
   ]
  },
  {
   "cell_type": "code",
   "execution_count": 79,
   "metadata": {},
   "outputs": [
    {
     "name": "stdout",
     "output_type": "stream",
     "text": [
      "10000/10000 [==============================] - 0s 32us/step\n"
     ]
    },
    {
     "data": {
      "text/plain": [
       "[0.8426185896873474, 0.9138]"
      ]
     },
     "execution_count": 79,
     "metadata": {},
     "output_type": "execute_result"
    }
   ],
   "source": [
    "# 验证，返回loss和metric值\n",
    "model.evaluate(x=x_test,y=y_test)"
   ]
  },
  {
   "cell_type": "markdown",
   "metadata": {},
   "source": [
    "- keras.Sequential只能构建层堆积模型\n",
    "- keras.Model函数接口可构建其他复杂模型"
   ]
  },
  {
   "cell_type": "code",
   "execution_count": 8,
   "metadata": {},
   "outputs": [],
   "source": [
    "train_x = np.random.random((1000, 32))\n",
    "train_y = np.random.random((1000, 10))\n",
    "\n",
    "val_x = np.random.random((200, 32))\n",
    "val_y = np.random.random((200, 10))"
   ]
  },
  {
   "cell_type": "code",
   "execution_count": 108,
   "metadata": {},
   "outputs": [],
   "source": [
    "# 通过keras.Model函数接口构建全连接网络\n",
    "inputs = keras.Input(shape=(32,)) # 返回输入占位符\n",
    "x1 = layers.Dense(64,activation='relu')(inputs)\n",
    "x2 = layers.Dense(64,activation='relu')(x1)\n",
    "outputs = layers.Dense(10,activation='softmax')(x2)\n",
    "model = keras.Model(inputs,outputs)\n",
    "model.compile(loss='categorical_crossentropy',optimizer='sgd',metrics=['accuracy'])"
   ]
  },
  {
   "cell_type": "code",
   "execution_count": 109,
   "metadata": {
    "scrolled": true
   },
   "outputs": [
    {
     "name": "stdout",
     "output_type": "stream",
     "text": [
      "Train on 1000 samples, validate on 200 samples\n",
      "Epoch 1/10\n",
      "1000/1000 [==============================] - 1s 607us/step - loss: 11.5531 - acc: 0.0990 - val_loss: 11.4991 - val_acc: 0.1150\n",
      "Epoch 2/10\n",
      "1000/1000 [==============================] - 0s 101us/step - loss: 11.5308 - acc: 0.0820 - val_loss: 11.4943 - val_acc: 0.1150\n",
      "Epoch 3/10\n",
      "1000/1000 [==============================] - 0s 98us/step - loss: 11.5264 - acc: 0.0840 - val_loss: 11.4916 - val_acc: 0.1150\n",
      "Epoch 4/10\n",
      "1000/1000 [==============================] - 0s 116us/step - loss: 11.5234 - acc: 0.0930 - val_loss: 11.4893 - val_acc: 0.1200\n",
      "Epoch 5/10\n",
      "1000/1000 [==============================] - 0s 107us/step - loss: 11.5208 - acc: 0.1010 - val_loss: 11.4864 - val_acc: 0.1100\n",
      "Epoch 6/10\n",
      "1000/1000 [==============================] - 0s 101us/step - loss: 11.5183 - acc: 0.0970 - val_loss: 11.4847 - val_acc: 0.1000\n",
      "Epoch 7/10\n",
      "1000/1000 [==============================] - 0s 140us/step - loss: 11.5161 - acc: 0.0990 - val_loss: 11.4831 - val_acc: 0.1000\n",
      "Epoch 8/10\n",
      "1000/1000 [==============================] - 0s 370us/step - loss: 11.5143 - acc: 0.1080 - val_loss: 11.4819 - val_acc: 0.0950\n",
      "Epoch 9/10\n",
      "1000/1000 [==============================] - 0s 145us/step - loss: 11.5126 - acc: 0.1090 - val_loss: 11.4811 - val_acc: 0.0950\n",
      "Epoch 10/10\n",
      "1000/1000 [==============================] - 0s 67us/step - loss: 11.5112 - acc: 0.1130 - val_loss: 11.4798 - val_acc: 0.1000\n"
     ]
    },
    {
     "data": {
      "text/plain": [
       "<tensorflow.python.keras.callbacks.History at 0x32887630>"
      ]
     },
     "execution_count": 109,
     "metadata": {},
     "output_type": "execute_result"
    }
   ],
   "source": [
    "model.fit(train_x,train_y,batch_size=20,epochs=10,validation_data=(val_x,val_y))"
   ]
  },
  {
   "cell_type": "markdown",
   "metadata": {},
   "source": [
    "- Model类继承"
   ]
  },
  {
   "cell_type": "code",
   "execution_count": 163,
   "metadata": {
    "code_folding": []
   },
   "outputs": [],
   "source": [
    "class ModelTest(keras.Model):\n",
    "    def __init__(self,input_nums,output_nums):\n",
    "        super(ModelTest, self).__init__(name='ModelTest')\n",
    "        # 定义层\n",
    "        self.x = layers.Dense(64,input_shape=(32,))\n",
    "        self.x1 = layers.Dense(128,activation='relu')\n",
    "        self.x2 = layers.Dense(64,activation='relu')\n",
    "        self.x3 = layers.Dense(output_nums,activation='softmax')\n",
    "    def call(self,inputs):\n",
    "        # 定义前向传递\n",
    "        i = self.x(inputs)\n",
    "        x1 = self.x1(i)\n",
    "        x2 = self.x2(x1)\n",
    "        return   self.x3(x2)"
   ]
  },
  {
   "cell_type": "code",
   "execution_count": 164,
   "metadata": {},
   "outputs": [
    {
     "name": "stdout",
     "output_type": "stream",
     "text": [
      "Epoch 1/10\n",
      "1000/1000 [==============================] - 1s 777us/step - loss: 11.5632 - acc: 0.0960\n",
      "Epoch 2/10\n",
      "1000/1000 [==============================] - 0s 39us/step - loss: 11.5085 - acc: 0.1190\n",
      "Epoch 3/10\n",
      "1000/1000 [==============================] - 0s 34us/step - loss: 11.5094 - acc: 0.1070\n",
      "Epoch 4/10\n",
      "1000/1000 [==============================] - 0s 36us/step - loss: 11.5078 - acc: 0.1000\n",
      "Epoch 5/10\n",
      "1000/1000 [==============================] - 0s 48us/step - loss: 11.5076 - acc: 0.1150\n",
      "Epoch 6/10\n",
      "1000/1000 [==============================] - 0s 39us/step - loss: 11.5078 - acc: 0.1010\n",
      "Epoch 7/10\n",
      "1000/1000 [==============================] - 0s 34us/step - loss: 11.5075 - acc: 0.1240\n",
      "Epoch 8/10\n",
      "1000/1000 [==============================] - 0s 34us/step - loss: 11.5075 - acc: 0.1210\n",
      "Epoch 9/10\n",
      "1000/1000 [==============================] - 0s 36us/step - loss: 11.5074 - acc: 0.1230\n",
      "Epoch 10/10\n",
      "1000/1000 [==============================] - 0s 55us/step - loss: 11.5077 - acc: 0.1090\n"
     ]
    },
    {
     "data": {
      "text/plain": [
       "<tensorflow.python.keras.callbacks.History at 0x3c55cbe0>"
      ]
     },
     "execution_count": 164,
     "metadata": {},
     "output_type": "execute_result"
    }
   ],
   "source": [
    "model_t = ModelTest(32,10)\n",
    "model_t.compile(optimizer=keras.optimizers.Adam(0.01),loss=keras.losses.categorical_crossentropy,metrics=['accuracy'])\n",
    "model_t.fit(x=train_x,y=train_y,epochs=10,batch_size=100)"
   ]
  },
  {
   "cell_type": "code",
   "execution_count": 150,
   "metadata": {},
   "outputs": [],
   "source": [
    "# 模型保存和加载\n",
    "model.save('./model.h5')\n",
    "model = tf.keras.models.load_model('./model.h5')"
   ]
  },
  {
   "cell_type": "code",
   "execution_count": 154,
   "metadata": {},
   "outputs": [
    {
     "name": "stdout",
     "output_type": "stream",
     "text": [
      "_________________________________________________________________\n",
      "Layer (type)                 Output Shape              Param #   \n",
      "=================================================================\n",
      "input_19 (InputLayer)        (None, 32)                0         \n",
      "_________________________________________________________________\n",
      "dense_84 (Dense)             (None, 64)                2112      \n",
      "_________________________________________________________________\n",
      "dense_85 (Dense)             (None, 64)                4160      \n",
      "_________________________________________________________________\n",
      "dense_86 (Dense)             (None, 10)                650       \n",
      "=================================================================\n",
      "Total params: 6,922\n",
      "Trainable params: 6,922\n",
      "Non-trainable params: 0\n",
      "_________________________________________________________________\n"
     ]
    }
   ],
   "source": [
    "model.summary()"
   ]
  },
  {
   "cell_type": "markdown",
   "metadata": {},
   "source": [
    "### CNN on mnist"
   ]
  },
  {
   "cell_type": "code",
   "execution_count": 84,
   "metadata": {
    "scrolled": false
   },
   "outputs": [],
   "source": [
    "# 调整数据集shape\n",
    "x_train = x_train.reshape(x_train.shape[0],28,28,1).astype('float32')\n",
    "x_test = x_test.reshape(x_test.shape[0],28,28,1).astype('float32')\n",
    "y_train = utils.to_categorical(y_train)\n",
    "y_test = utils.to_categorical(y_test)"
   ]
  },
  {
   "cell_type": "code",
   "execution_count": 77,
   "metadata": {
    "scrolled": true
   },
   "outputs": [],
   "source": [
    "# 定义模型结果\n",
    "model = keras.Sequential(\n",
    "            [\n",
    "             layers.Conv2D(kernel_size=(5,5),activation='relu',filters=16,padding='same',input_shape=(28,28,1)),\n",
    "             layers.MaxPooling2D(pool_size=(2,2)),\n",
    "             layers.Conv2D(kernel_size=(6,6),activation='relu',filters=16,padding='same'),\n",
    "             layers.MaxPool2D(pool_size=(2,2)),\n",
    "             layers.Dropout(0.2),\n",
    "             layers.Flatten(),\n",
    "             layers.Dense(units=128,activation='relu'),\n",
    "             layers.Dropout(0.1),\n",
    "             layers.Dense(units=10,activation='softmax')\n",
    "            ]\n",
    "                )"
   ]
  },
  {
   "cell_type": "code",
   "execution_count": 78,
   "metadata": {
    "scrolled": true
   },
   "outputs": [],
   "source": [
    "# 配置参数\n",
    "model.compile(loss=keras.losses.categorical_crossentropy, optimizer='adam', metrics=['accuracy'])"
   ]
  },
  {
   "cell_type": "code",
   "execution_count": 79,
   "metadata": {
    "scrolled": true
   },
   "outputs": [
    {
     "name": "stdout",
     "output_type": "stream",
     "text": [
      "_________________________________________________________________\n",
      "Layer (type)                 Output Shape              Param #   \n",
      "=================================================================\n",
      "conv2d_10 (Conv2D)           (None, 28, 28, 16)        416       \n",
      "_________________________________________________________________\n",
      "max_pooling2d_10 (MaxPooling (None, 14, 14, 16)        0         \n",
      "_________________________________________________________________\n",
      "conv2d_11 (Conv2D)           (None, 14, 14, 16)        9232      \n",
      "_________________________________________________________________\n",
      "max_pooling2d_11 (MaxPooling (None, 7, 7, 16)          0         \n",
      "_________________________________________________________________\n",
      "dropout_10 (Dropout)         (None, 7, 7, 16)          0         \n",
      "_________________________________________________________________\n",
      "flatten_5 (Flatten)          (None, 784)               0         \n",
      "_________________________________________________________________\n",
      "dense_10 (Dense)             (None, 128)               100480    \n",
      "_________________________________________________________________\n",
      "dropout_11 (Dropout)         (None, 128)               0         \n",
      "_________________________________________________________________\n",
      "dense_11 (Dense)             (None, 10)                1290      \n",
      "=================================================================\n",
      "Total params: 111,418\n",
      "Trainable params: 111,418\n",
      "Non-trainable params: 0\n",
      "_________________________________________________________________\n"
     ]
    }
   ],
   "source": [
    "model.summary()"
   ]
  },
  {
   "cell_type": "code",
   "execution_count": 86,
   "metadata": {
    "scrolled": true
   },
   "outputs": [
    {
     "name": "stdout",
     "output_type": "stream",
     "text": [
      "Train on 48000 samples, validate on 12000 samples\n",
      "Epoch 1/10\n",
      "48000/48000 [==============================] - 13s 268us/step - loss: 0.4674 - acc: 0.8562 - val_loss: 0.1055 - val_acc: 0.9683\n",
      "Epoch 2/10\n",
      "48000/48000 [==============================] - 11s 238us/step - loss: 0.1153 - acc: 0.9642 - val_loss: 0.0747 - val_acc: 0.9769\n",
      "Epoch 3/10\n",
      "48000/48000 [==============================] - 12s 259us/step - loss: 0.0804 - acc: 0.9749 - val_loss: 0.0541 - val_acc: 0.9838\n",
      "Epoch 4/10\n",
      "48000/48000 [==============================] - 13s 264us/step - loss: 0.0642 - acc: 0.9794 - val_loss: 0.0480 - val_acc: 0.9855\n",
      "Epoch 5/10\n",
      "48000/48000 [==============================] - 13s 261us/step - loss: 0.0528 - acc: 0.9832 - val_loss: 0.0438 - val_acc: 0.9865\n",
      "Epoch 6/10\n",
      "48000/48000 [==============================] - 13s 263us/step - loss: 0.0467 - acc: 0.9855 - val_loss: 0.0384 - val_acc: 0.9886\n",
      "Epoch 7/10\n",
      "48000/48000 [==============================] - 12s 252us/step - loss: 0.0402 - acc: 0.9872 - val_loss: 0.0373 - val_acc: 0.9890\n",
      "Epoch 8/10\n",
      "48000/48000 [==============================] - 12s 257us/step - loss: 0.0379 - acc: 0.9880 - val_loss: 0.0374 - val_acc: 0.9890\n",
      "Epoch 9/10\n",
      "48000/48000 [==============================] - 13s 272us/step - loss: 0.0329 - acc: 0.9895 - val_loss: 0.0340 - val_acc: 0.9902\n",
      "Epoch 10/10\n",
      "48000/48000 [==============================] - 13s 275us/step - loss: 0.0286 - acc: 0.9908 - val_loss: 0.0355 - val_acc: 0.9898\n"
     ]
    }
   ],
   "source": [
    "# 训练\n",
    "train_history = model.fit(x_train,y_train,batch_size=300,epochs=10,validation_split=0.2)"
   ]
  },
  {
   "cell_type": "code",
   "execution_count": 89,
   "metadata": {},
   "outputs": [
    {
     "data": {
      "text/plain": [
       "Text(0.5,0,'epochs')"
      ]
     },
     "execution_count": 89,
     "metadata": {},
     "output_type": "execute_result"
    },
    {
     "data": {
      "image/png": "[encoded data removed]",
      "text/plain": [
       "<Figure size 432x288 with 1 Axes>"
      ]
     },
     "metadata": {
      "needs_background": "light"
     },
     "output_type": "display_data"
    }
   ],
   "source": [
    "plt.plot(train_history.history.get('val_loss'))\n",
    "plt.plot(train_history.history.get('loss'))\n",
    "plt.legend(['val_loss','loss'])\n",
    "plt.ylabel('loss')\n",
    "plt.xlabel('epochs')"
   ]
  },
  {
   "cell_type": "code",
   "execution_count": 90,
   "metadata": {},
   "outputs": [
    {
     "data": {
      "text/plain": [
       "Text(0.5,0,'epochs')"
      ]
     },
     "execution_count": 90,
     "metadata": {},
     "output_type": "execute_result"
    },
    {
     "data": {
      "image/png": "[encoded data removed]",
      "text/plain": [
       "<Figure size 432x288 with 1 Axes>"
      ]
     },
     "metadata": {
      "needs_background": "light"
     },
     "output_type": "display_data"
    }
   ],
   "source": [
    "plt.plot(train_history.history.get('val_acc'))\n",
    "plt.plot(train_history.history.get('acc'))\n",
    "plt.legend(['val_acc','acc'])\n",
    "plt.ylabel('accuracy')\n",
    "plt.xlabel('epochs')"
   ]
  },
  {
   "cell_type": "code",
   "execution_count": 104,
   "metadata": {},
   "outputs": [
    {
     "name": "stdout",
     "output_type": "stream",
     "text": [
      "10000/10000 [==============================] - 1s 121us/step\n",
      "the accuracy on test is 0.9915\n"
     ]
    }
   ],
   "source": [
    "# 评价\n",
    "print(f\"the accuracy on test is {model.evaluate(x_test,y_test)[1]}\")"
   ]
  },
  {
   "cell_type": "code",
   "execution_count": 94,
   "metadata": {},
   "outputs": [
    {
     "data": {
      "text/plain": [
       "array([7, 2, 1, ..., 4, 5, 6], dtype=int64)"
      ]
     },
     "execution_count": 94,
     "metadata": {},
     "output_type": "execute_result"
    }
   ],
   "source": [
    "# 预测\n",
    "model.predict_classes(x_test)"
   ]
  },
  {
   "cell_type": "code",
   "execution_count": null,
   "metadata": {},
   "outputs": [],
   "source": []
  }
 ],
 "metadata": {
  "hide_input": false,
  "kernelspec": {
   "display_name": "Python 3",
   "language": "python",
   "name": "python3"
  },
  "language_info": {
   "codemirror_mode": {
    "name": "ipython",
    "version": 3
   },
   "file_extension": ".py",
   "mimetype": "text/x-python",
   "name": "python",
   "nbconvert_exporter": "python",
   "pygments_lexer": "ipython3",
   "version": "3.7.0"
  },
  "toc": {
   "base_numbering": 1,
   "nav_menu": {},
   "number_sections": true,
   "sideBar": true,
   "skip_h1_title": false,
   "title_cell": "Table of Contents",
   "title_sidebar": "Contents",
   "toc_cell": false,
   "toc_position": {
    "height": "calc(100% - 180px)",
    "left": "10px",
    "top": "150px",
    "width": "186.391px"
   },
   "toc_section_display": true,
   "toc_window_display": true
  },
  "varInspector": {
   "cols": {
    "lenName": 16,
    "lenType": 16,
    "lenVar": 40
   },
   "kernels_config": {
    "python": {
     "delete_cmd_postfix": "",
     "delete_cmd_prefix": "del ",
     "library": "var_list.py",
     "varRefreshCmd": "print(var_dic_list())"
    },
    "r": {
     "delete_cmd_postfix": ") ",
     "delete_cmd_prefix": "rm(",
     "library": "var_list.r",
     "varRefreshCmd": "cat(var_dic_list()) "
    }
   },
   "types_to_exclude": [
    "module",
    "function",
    "builtin_function_or_method",
    "instance",
    "_Feature"
   ],
   "window_display": false
  }
 },
 "nbformat": 4,
 "nbformat_minor": 2
}
